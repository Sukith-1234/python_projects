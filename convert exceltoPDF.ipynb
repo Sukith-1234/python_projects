{
 "cells": [
  {
   "cell_type": "code",
   "execution_count": 2,
   "metadata": {},
   "outputs": [
    {
     "name": "stdout",
     "output_type": "stream",
     "text": [
      "                  name   kingdom      phylum     class        order  \\\n",
      "0        Malayan Tiger  Animalia    Chordata  Mammalia    Carnivora   \n",
      "1  American Black Bear  Animalia    Chordata  Mammalia    Carnivora   \n",
      "2            Bumblebee  Animalia  Arthropoda   Insecta  Hymenopetra   \n",
      "\n",
      "     suborder  \n",
      "0  Feliformia  \n",
      "1     Ursidae  \n",
      "2      Apidae  \n"
     ]
    },
    {
     "data": {
      "text/plain": [
       "''"
      ]
     },
     "execution_count": 2,
     "metadata": {},
     "output_type": "execute_result"
    }
   ],
   "source": [
    "from fpdf import FPDF\n",
    "import pandas as pd\n",
    "\n",
    "df=pd.read_excel('C:\\\\Users\\\\sukit_jjm\\\\Downloads\\\\data.xlsx')\n",
    "print(df)\n",
    "\n",
    "for index,row in df.iterrows():\n",
    "    pdf=FPDF(orientation='P',unit='pt',format='A4')\n",
    "    pdf.add_page()\n",
    "    pdf.set_font(family='Times',style='B',size=24)\n",
    "    pdf.cell(w=0,h=50,txt=row['name'],align='C',ln=1)\n",
    "    \n",
    "    for columns in df.columns[1:]:\n",
    "\n",
    "        pdf.set_font(family='Times',style='B',size=14)\n",
    "        pdf.cell(w=100,h=25,txt=f\"{columns.title()} :\")\n",
    "\n",
    "        pdf.set_font(family='Times',style='B',size=14)\n",
    "        pdf.cell(w=100,h=25,txt=row[columns],ln=1)\n",
    "\n",
    "\n",
    "\n",
    "pdf.output(f\"C:\\\\Users\\\\sukit_jjm\\\\Downloads\\\\{row['name']}.pdf\")"
   ]
  }
 ],
 "metadata": {
  "kernelspec": {
   "display_name": "Python 3.9.7 ('base')",
   "language": "python",
   "name": "python3"
  },
  "language_info": {
   "codemirror_mode": {
    "name": "ipython",
    "version": 3
   },
   "file_extension": ".py",
   "mimetype": "text/x-python",
   "name": "python",
   "nbconvert_exporter": "python",
   "pygments_lexer": "ipython3",
   "version": "3.9.7"
  },
  "orig_nbformat": 4,
  "vscode": {
   "interpreter": {
    "hash": "ad2bdc8ecc057115af97d19610ffacc2b4e99fae6737bb82f5d7fb13d2f2c186"
   }
  }
 },
 "nbformat": 4,
 "nbformat_minor": 2
}
